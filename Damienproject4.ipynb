import pandas as pd
import numpy as np
import glob
import os

list_of_files = glob.glob("C:\\Users\\aryan\\all python programs\\folder1\\*") # * means all if need specific format then *.csv
latest_file = max(list_of_files, key=os.path.getctime)
file1=latest_file

# print("Function: data() --> ask for two inputs; data(file1,file2).")
# print("File 1 is the file we read and file 2 is the file we save the data on.")
# print("data() will find the std and mean and store it for you in a folder.")
# print(" ")

def data(file1):
    df=pd.read_csv(file1)

    df.columns =['Sourcename', 'Date', 'Currency1', 'Othercurrency','Number']

    for j in df.Currency1.unique():
        df1=pd.DataFrame()
        d = []
        e = []
        f = []
        for i in df.Othercurrency.unique():
            d.append(i)
            e.append(df[df.Othercurrency==i].Number.mean())
            f.append(df[df.Othercurrency==i].Number.std())
            
        ll=len(d)*['Currency1']
        list_of_cols = list(zip(ll,d,e,f))
        rates_df = pd.DataFrame(list_of_cols, columns = ['Currency1','Othercurrency','STD','MEAN'])
        rates_df = pd.concat([df1,rates_df], ignore_index=True)
      
    return rates_df
 

                              
def findNumber(dataFrame1,multiplierS,multiplierH,currency):
    dict1=dict(zip(dataFrame1.Othercurrency, dataFrame1.STD))
    dict2=dict(zip(dataFrame1.Othercurrency, dataFrame1.MEAN))
    
    numberSTD = dict1[currency]
    numberMEAN = dict2[currency]
    MultiplierSNumber = ((numberSTD*multiplierS)/numberMEAN)*100
    MultiplierHNumber = ((numberSTD*multiplierH)/numberMEAN)*100
    
    
    
    print(currency, MultiplierSNumber)
    print(currency, MultiplierHNumber)
    return MultiplierSNumber, MultiplierHNumber



def create_command(latest_file, currency1, othercurrencyName, MS, MH):
    return "apix -v foxy-sc updateBackendSource name "+latest_file+" request addedVarianceThresholdOverrides " + currency1 +"-"+ othercurrencyName +" = "+MS+' addedHardVarianceThresholdOverrides '+currency1 +"-"+ othercurrencyName +" = "+MH + ''' reason "update Variance Threshold'''
    
def main():
    dataFrame = data("FX_rates_PARTNER_REUTERS_BIDASK_24H_20210101_20210412 (1).csv")
    MS,MH=findNumber(dataFrame,2,4,"EUR")
    command = create_command(file1,"USD","EUR", str(MS), str(MH))

    return command
    
# if __name__ == "__main__":
#     main()

main()
