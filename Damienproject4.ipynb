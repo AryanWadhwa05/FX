{
 "cells": [
  {
   "cell_type": "code",
   "execution_count": 3,
   "metadata": {},
   "outputs": [
    {
     "name": "stdout",
     "output_type": "stream",
     "text": [
      "Function: data() --> ask for two inputs; data(file1,file2).\n",
      "File 1 is the file we read and file 2 is the file we save the data on.\n",
      "data() will find the std and mean and store it for you in a folder.\n",
      " \n"
     ]
    }
   ],
   "source": [
    "import pandas as pd\n",
    "import numpy as np\n",
    "import glob\n",
    "import os\n",
    "\n",
    "list_of_files = glob.glob(\"C:\\\\Users\\\\aryan\\\\all python programs\\\\folder1\\\\*\") # * means all if need specific format then *.csv\n",
    "latest_file = max(list_of_files, key=os.path.getmtime)\n",
    "file1=latest_file\n",
    "\n",
    "print(\"Function: data() --> ask for two inputs; data(file1,file2).\")\n",
    "print(\"File 1 is the file we read and file 2 is the file we save the data on.\")\n",
    "print(\"data() will find the std and mean and store it for you in a folder.\")\n",
    "print(\" \")\n",
    "def data(file1,file2):\n",
    "    df=pd.read_csv(file1)\n",
    "\n",
    "    df.columns =['Sourcename', 'Date', 'Currency1', 'Othercurrency','Number']\n",
    "\n",
    "    for j in df.Currency1.unique():\n",
    "        df1=pd.DataFrame()\n",
    "        d = []\n",
    "        e = []\n",
    "        f = []\n",
    "        for i in df.Othercurrency.unique():\n",
    "            d.append(i)\n",
    "            e.append(df[df.Othercurrency==i].Number.mean())\n",
    "            f.append(df[df.Othercurrency==i].Number.std())\n",
    "            \n",
    "        ll=len(d)*['Currency1']\n",
    "        list_of_cols = list(zip(ll,d,e,f))\n",
    "        rates_df = pd.DataFrame(list_of_cols, columns = ['Currency1','Othercurrency','STD','MEAN'])\n",
    "        rates_df = pd.concat([df1,rates_df], ignore_index=True)\n",
    "      \n",
    "    rates_df.to_csv(file2)\n",
    "    print(\"File has been saved as\", file2, \"in your folder\")\n",
    "    return rates_df\n",
    " \n",
    "\n",
    "                              \n",
    "def findNumber(dataFrame1,multiplierS,multiplierH,currency):\n",
    "    dict1=dict(zip(dataFrame1.Othercurrency, dataFrame1.STD))\n",
    "    dict2=dict(zip(dataFrame1.Othercurrency, dataFrame1.MEAN))\n",
    "    \n",
    "    numberSTD = dict1[currency]\n",
    "    numberMEAN = dict2[currency]\n",
    "    MultiplierSNumber = ((numberSTD*multiplierS)/numberMEAN)*100\n",
    "    MultiplierHNumber = ((numberSTD*multiplierH)/numberMEAN)*100\n",
    "    \n",
    "    \n",
    "    \n",
    "    print(currency, MultiplierSNumber)\n",
    "    print(currency, MultiplierHNumber)\n",
    "    return MultiplierSNumber, MultiplierHNumber\n",
    "\n",
    "\n",
    "\n",
    "\n"
   ]
  },
  {
   "cell_type": "code",
   "execution_count": 4,
   "metadata": {},
   "outputs": [],
   "source": [
    "def create_command(latest_file, currency1, othercurrencyName, MS, MH):\n",
    "    return \"apix -v foxy-sc updateBackendSource name \"+latest_file+\" request addedVarianceThresholdOverrides \" + currency1 +\"-\"+ othercurrencyName +\" = \"+MS+' addedHardVarianceThresholdOverrides '+currency1 +\"-\"+ othercurrencyName +\" = \"+MH + ''' reason \"update Variance Threshold'''\n",
    "    "
   ]
  },
  {
   "cell_type": "code",
   "execution_count": null,
   "metadata": {},
   "outputs": [],
   "source": []
  },
  {
   "cell_type": "code",
   "execution_count": 5,
   "metadata": {},
   "outputs": [
    {
     "name": "stdout",
     "output_type": "stream",
     "text": [
      "File has been saved as rates.csv in your folder\n",
      "EUR 16302.60573664264\n",
      "EUR 32605.21147328528\n"
     ]
    }
   ],
   "source": [
    "def main():\n",
    "    dataFrame = data(\"FX_rates_PARTNER_REUTERS_BIDASK_24H_20210101_20210412 (1).csv\",\"rates.csv\")\n",
    "    MS,MH=findNumber(dataFrame,2,4,\"EUR\")\n",
    "    command = create_command(file1,\"USD\",\"EUR\", str(MS), str(MH))\n",
    "\n",
    "    return command\n",
    "    \n",
    "if __name__ == \"__main__\":\n",
    "    main()"
   ]
  },
  {
   "cell_type": "code",
   "execution_count": 1,
   "metadata": {},
   "outputs": [
    {
     "ename": "ValueError",
     "evalue": "Length mismatch: Expected axis has 4 elements, new values have 5 elements",
     "output_type": "error",
     "traceback": [
      "\u001b[1;31m---------------------------------------------------------------------------\u001b[0m",
      "\u001b[1;31mValueError\u001b[0m                                Traceback (most recent call last)",
      "\u001b[1;32m<ipython-input-1-14cf899cf86a>\u001b[0m in \u001b[0;36m<module>\u001b[1;34m\u001b[0m\n\u001b[0;32m     66\u001b[0m \u001b[1;31m#     main()\u001b[0m\u001b[1;33m\u001b[0m\u001b[1;33m\u001b[0m\u001b[1;33m\u001b[0m\u001b[0m\n\u001b[0;32m     67\u001b[0m \u001b[1;33m\u001b[0m\u001b[0m\n\u001b[1;32m---> 68\u001b[1;33m \u001b[0mmain\u001b[0m\u001b[1;33m(\u001b[0m\u001b[1;33m)\u001b[0m\u001b[1;33m\u001b[0m\u001b[1;33m\u001b[0m\u001b[0m\n\u001b[0m\u001b[0;32m     69\u001b[0m \u001b[1;33m\u001b[0m\u001b[0m\n",
      "\u001b[1;32m<ipython-input-1-14cf899cf86a>\u001b[0m in \u001b[0;36mmain\u001b[1;34m()\u001b[0m\n\u001b[0;32m     57\u001b[0m \u001b[1;33m\u001b[0m\u001b[0m\n\u001b[0;32m     58\u001b[0m \u001b[1;32mdef\u001b[0m \u001b[0mmain\u001b[0m\u001b[1;33m(\u001b[0m\u001b[1;33m)\u001b[0m\u001b[1;33m:\u001b[0m\u001b[1;33m\u001b[0m\u001b[1;33m\u001b[0m\u001b[0m\n\u001b[1;32m---> 59\u001b[1;33m     \u001b[0mdataFrame\u001b[0m \u001b[1;33m=\u001b[0m \u001b[0mdata\u001b[0m\u001b[1;33m(\u001b[0m\u001b[0mfile1\u001b[0m\u001b[1;33m)\u001b[0m\u001b[1;33m\u001b[0m\u001b[1;33m\u001b[0m\u001b[0m\n\u001b[0m\u001b[0;32m     60\u001b[0m     \u001b[0mMS\u001b[0m\u001b[1;33m,\u001b[0m\u001b[0mMH\u001b[0m\u001b[1;33m=\u001b[0m\u001b[0mfindNumber\u001b[0m\u001b[1;33m(\u001b[0m\u001b[0mdataFrame\u001b[0m\u001b[1;33m,\u001b[0m\u001b[1;36m2\u001b[0m\u001b[1;33m,\u001b[0m\u001b[1;36m4\u001b[0m\u001b[1;33m,\u001b[0m\u001b[1;34m\"EUR\"\u001b[0m\u001b[1;33m)\u001b[0m\u001b[1;33m\u001b[0m\u001b[1;33m\u001b[0m\u001b[0m\n\u001b[0;32m     61\u001b[0m     \u001b[0mcommand\u001b[0m \u001b[1;33m=\u001b[0m \u001b[0mcreate_command\u001b[0m\u001b[1;33m(\u001b[0m\u001b[0mfile1\u001b[0m\u001b[1;33m,\u001b[0m\u001b[1;34m\"USD\"\u001b[0m\u001b[1;33m,\u001b[0m\u001b[1;34m\"EUR\"\u001b[0m\u001b[1;33m,\u001b[0m \u001b[0mstr\u001b[0m\u001b[1;33m(\u001b[0m\u001b[0mMS\u001b[0m\u001b[1;33m)\u001b[0m\u001b[1;33m,\u001b[0m \u001b[0mstr\u001b[0m\u001b[1;33m(\u001b[0m\u001b[0mMH\u001b[0m\u001b[1;33m)\u001b[0m\u001b[1;33m)\u001b[0m\u001b[1;33m\u001b[0m\u001b[1;33m\u001b[0m\u001b[0m\n",
      "\u001b[1;32m<ipython-input-1-14cf899cf86a>\u001b[0m in \u001b[0;36mdata\u001b[1;34m(file1)\u001b[0m\n\u001b[0;32m     15\u001b[0m     \u001b[0mdf\u001b[0m\u001b[1;33m=\u001b[0m\u001b[0mpd\u001b[0m\u001b[1;33m.\u001b[0m\u001b[0mread_csv\u001b[0m\u001b[1;33m(\u001b[0m\u001b[0mfile1\u001b[0m\u001b[1;33m)\u001b[0m\u001b[1;33m\u001b[0m\u001b[1;33m\u001b[0m\u001b[0m\n\u001b[0;32m     16\u001b[0m \u001b[1;33m\u001b[0m\u001b[0m\n\u001b[1;32m---> 17\u001b[1;33m     \u001b[0mdf\u001b[0m\u001b[1;33m.\u001b[0m\u001b[0mcolumns\u001b[0m \u001b[1;33m=\u001b[0m\u001b[1;33m[\u001b[0m\u001b[1;34m'Sourcename'\u001b[0m\u001b[1;33m,\u001b[0m \u001b[1;34m'Date'\u001b[0m\u001b[1;33m,\u001b[0m \u001b[1;34m'Currency1'\u001b[0m\u001b[1;33m,\u001b[0m \u001b[1;34m'Othercurrency'\u001b[0m\u001b[1;33m,\u001b[0m\u001b[1;34m'Number'\u001b[0m\u001b[1;33m]\u001b[0m\u001b[1;33m\u001b[0m\u001b[1;33m\u001b[0m\u001b[0m\n\u001b[0m\u001b[0;32m     18\u001b[0m \u001b[1;33m\u001b[0m\u001b[0m\n\u001b[0;32m     19\u001b[0m     \u001b[1;32mfor\u001b[0m \u001b[0mj\u001b[0m \u001b[1;32min\u001b[0m \u001b[0mdf\u001b[0m\u001b[1;33m.\u001b[0m\u001b[0mCurrency1\u001b[0m\u001b[1;33m.\u001b[0m\u001b[0munique\u001b[0m\u001b[1;33m(\u001b[0m\u001b[1;33m)\u001b[0m\u001b[1;33m:\u001b[0m\u001b[1;33m\u001b[0m\u001b[1;33m\u001b[0m\u001b[0m\n",
      "\u001b[1;32m~\\anaconda\\lib\\site-packages\\pandas\\core\\generic.py\u001b[0m in \u001b[0;36m__setattr__\u001b[1;34m(self, name, value)\u001b[0m\n\u001b[0;32m   5150\u001b[0m         \u001b[1;32mtry\u001b[0m\u001b[1;33m:\u001b[0m\u001b[1;33m\u001b[0m\u001b[1;33m\u001b[0m\u001b[0m\n\u001b[0;32m   5151\u001b[0m             \u001b[0mobject\u001b[0m\u001b[1;33m.\u001b[0m\u001b[0m__getattribute__\u001b[0m\u001b[1;33m(\u001b[0m\u001b[0mself\u001b[0m\u001b[1;33m,\u001b[0m \u001b[0mname\u001b[0m\u001b[1;33m)\u001b[0m\u001b[1;33m\u001b[0m\u001b[1;33m\u001b[0m\u001b[0m\n\u001b[1;32m-> 5152\u001b[1;33m             \u001b[1;32mreturn\u001b[0m \u001b[0mobject\u001b[0m\u001b[1;33m.\u001b[0m\u001b[0m__setattr__\u001b[0m\u001b[1;33m(\u001b[0m\u001b[0mself\u001b[0m\u001b[1;33m,\u001b[0m \u001b[0mname\u001b[0m\u001b[1;33m,\u001b[0m \u001b[0mvalue\u001b[0m\u001b[1;33m)\u001b[0m\u001b[1;33m\u001b[0m\u001b[1;33m\u001b[0m\u001b[0m\n\u001b[0m\u001b[0;32m   5153\u001b[0m         \u001b[1;32mexcept\u001b[0m \u001b[0mAttributeError\u001b[0m\u001b[1;33m:\u001b[0m\u001b[1;33m\u001b[0m\u001b[1;33m\u001b[0m\u001b[0m\n\u001b[0;32m   5154\u001b[0m             \u001b[1;32mpass\u001b[0m\u001b[1;33m\u001b[0m\u001b[1;33m\u001b[0m\u001b[0m\n",
      "\u001b[1;32mpandas\\_libs\\properties.pyx\u001b[0m in \u001b[0;36mpandas._libs.properties.AxisProperty.__set__\u001b[1;34m()\u001b[0m\n",
      "\u001b[1;32m~\\anaconda\\lib\\site-packages\\pandas\\core\\generic.py\u001b[0m in \u001b[0;36m_set_axis\u001b[1;34m(self, axis, labels)\u001b[0m\n\u001b[0;32m    562\u001b[0m     \u001b[1;32mdef\u001b[0m \u001b[0m_set_axis\u001b[0m\u001b[1;33m(\u001b[0m\u001b[0mself\u001b[0m\u001b[1;33m,\u001b[0m \u001b[0maxis\u001b[0m\u001b[1;33m:\u001b[0m \u001b[0mint\u001b[0m\u001b[1;33m,\u001b[0m \u001b[0mlabels\u001b[0m\u001b[1;33m:\u001b[0m \u001b[0mIndex\u001b[0m\u001b[1;33m)\u001b[0m \u001b[1;33m->\u001b[0m \u001b[1;32mNone\u001b[0m\u001b[1;33m:\u001b[0m\u001b[1;33m\u001b[0m\u001b[1;33m\u001b[0m\u001b[0m\n\u001b[0;32m    563\u001b[0m         \u001b[0mlabels\u001b[0m \u001b[1;33m=\u001b[0m \u001b[0mensure_index\u001b[0m\u001b[1;33m(\u001b[0m\u001b[0mlabels\u001b[0m\u001b[1;33m)\u001b[0m\u001b[1;33m\u001b[0m\u001b[1;33m\u001b[0m\u001b[0m\n\u001b[1;32m--> 564\u001b[1;33m         \u001b[0mself\u001b[0m\u001b[1;33m.\u001b[0m\u001b[0m_mgr\u001b[0m\u001b[1;33m.\u001b[0m\u001b[0mset_axis\u001b[0m\u001b[1;33m(\u001b[0m\u001b[0maxis\u001b[0m\u001b[1;33m,\u001b[0m \u001b[0mlabels\u001b[0m\u001b[1;33m)\u001b[0m\u001b[1;33m\u001b[0m\u001b[1;33m\u001b[0m\u001b[0m\n\u001b[0m\u001b[0;32m    565\u001b[0m         \u001b[0mself\u001b[0m\u001b[1;33m.\u001b[0m\u001b[0m_clear_item_cache\u001b[0m\u001b[1;33m(\u001b[0m\u001b[1;33m)\u001b[0m\u001b[1;33m\u001b[0m\u001b[1;33m\u001b[0m\u001b[0m\n\u001b[0;32m    566\u001b[0m \u001b[1;33m\u001b[0m\u001b[0m\n",
      "\u001b[1;32m~\\anaconda\\lib\\site-packages\\pandas\\core\\internals\\managers.py\u001b[0m in \u001b[0;36mset_axis\u001b[1;34m(self, axis, new_labels)\u001b[0m\n\u001b[0;32m    224\u001b[0m \u001b[1;33m\u001b[0m\u001b[0m\n\u001b[0;32m    225\u001b[0m         \u001b[1;32mif\u001b[0m \u001b[0mnew_len\u001b[0m \u001b[1;33m!=\u001b[0m \u001b[0mold_len\u001b[0m\u001b[1;33m:\u001b[0m\u001b[1;33m\u001b[0m\u001b[1;33m\u001b[0m\u001b[0m\n\u001b[1;32m--> 226\u001b[1;33m             raise ValueError(\n\u001b[0m\u001b[0;32m    227\u001b[0m                 \u001b[1;34mf\"Length mismatch: Expected axis has {old_len} elements, new \"\u001b[0m\u001b[1;33m\u001b[0m\u001b[1;33m\u001b[0m\u001b[0m\n\u001b[0;32m    228\u001b[0m                 \u001b[1;34mf\"values have {new_len} elements\"\u001b[0m\u001b[1;33m\u001b[0m\u001b[1;33m\u001b[0m\u001b[0m\n",
      "\u001b[1;31mValueError\u001b[0m: Length mismatch: Expected axis has 4 elements, new values have 5 elements"
     ]
    }
   ],
   "source": [
    "import pandas as pd\n",
    "import numpy as np\n",
    "import glob\n",
    "import os\n",
    "\n",
    "list_of_files = glob.glob(\"C:\\\\Users\\\\aryan\\\\all python programs\\\\folder1\\\\*\") # * means all if need specific format then *.csv\n",
    "latest_file = max(list_of_files, key=os.path.getmtime)\n",
    "file1=latest_file\n",
    "\n",
    "# print(\"Function: data() --> ask for two inputs; data(file1,file2).\")\n",
    "# print(\"File 1 is the file we read and file 2 is the file we save the data on.\")\n",
    "# print(\"data() will find the std and mean and store it for you in a folder.\")\n",
    "# print(\" \")\n",
    "def data(file1):\n",
    "    df=pd.read_csv(file1)\n",
    "\n",
    "    df.columns =['Sourcename', 'Date', 'Currency1', 'Othercurrency','Number']\n",
    "\n",
    "    for j in df.Currency1.unique():\n",
    "        df1=pd.DataFrame()\n",
    "        d = []\n",
    "        e = []\n",
    "        f = []\n",
    "        for i in df.Othercurrency.unique():\n",
    "            d.append(i)\n",
    "            e.append(df[df.Othercurrency==i].Number.mean())\n",
    "            f.append(df[df.Othercurrency==i].Number.std())\n",
    "            \n",
    "        ll=len(d)*['Currency1']\n",
    "        list_of_cols = list(zip(ll,d,e,f))\n",
    "        rates_df = pd.DataFrame(list_of_cols, columns = ['Currency1','Othercurrency','STD','MEAN'])\n",
    "        rates_df = pd.concat([df1,rates_df], ignore_index=True)\n",
    "#     print(\"File has been saved as\", file2, \"in your folder\")\n",
    "    return rates_df\n",
    " \n",
    "\n",
    "                              \n",
    "def findNumber(dataFrame1,multiplierS,multiplierH,currency):\n",
    "    dict1=dict(zip(dataFrame1.Othercurrency, dataFrame1.STD))\n",
    "    dict2=dict(zip(dataFrame1.Othercurrency, dataFrame1.MEAN))\n",
    "    \n",
    "    numberSTD = dict1[currency]\n",
    "    numberMEAN = dict2[currency]\n",
    "    MultiplierSNumber = ((numberSTD*multiplierS)/numberMEAN)*100\n",
    "    MultiplierHNumber = ((numberSTD*multiplierH)/numberMEAN)*100\n",
    "    \n",
    "    \n",
    "    \n",
    "#     print(currency, MultiplierSNumber)\n",
    "#     print(currency, MultiplierHNumber)\n",
    "    return MultiplierSNumber, MultiplierHNumber\n",
    "\n",
    "def create_command(latest_file, currency1, othercurrencyName, MS, MH):\n",
    "    return \"apix -v foxy-sc updateBackendSource name \"+latest_file+\" request addedVarianceThresholdOverrides \" + currency1 +\"-\"+ othercurrencyName +\" = \"+MS+' addedHardVarianceThresholdOverrides '+currency1 +\"-\"+ othercurrencyName +\" = \"+MH + ''' reason \"update Variance Threshold'''\n",
    "    \n",
    "\n",
    "    \n",
    "def main():\n",
    "    dataFrame = data(file1)\n",
    "    MS,MH=findNumber(dataFrame,2,4,\"EUR\")\n",
    "    command = create_command(file1,\"USD\",\"EUR\", str(MS), str(MH))\n",
    "\n",
    "    return command\n",
    "    \n",
    "# if __name__ == \"__main__\":\n",
    "#     main()\n",
    "    \n",
    "main()\n",
    "\n"
   ]
  },
  {
   "cell_type": "code",
   "execution_count": 12,
   "metadata": {},
   "outputs": [
    {
     "ename": "ValueError",
     "evalue": "Length mismatch: Expected axis has 4 elements, new values have 5 elements",
     "output_type": "error",
     "traceback": [
      "\u001b[1;31m---------------------------------------------------------------------------\u001b[0m",
      "\u001b[1;31mValueError\u001b[0m                                Traceback (most recent call last)",
      "\u001b[1;32m<ipython-input-12-1c9c2467b0a4>\u001b[0m in \u001b[0;36m<module>\u001b[1;34m\u001b[0m\n\u001b[0;32m      6\u001b[0m     \u001b[0mprint\u001b[0m\u001b[1;33m(\u001b[0m\u001b[0mdataframe\u001b[0m\u001b[1;33m)\u001b[0m\u001b[1;33m\u001b[0m\u001b[1;33m\u001b[0m\u001b[0m\n\u001b[0;32m      7\u001b[0m \u001b[1;33m\u001b[0m\u001b[0m\n\u001b[1;32m----> 8\u001b[1;33m \u001b[0mdataFrame\u001b[0m\u001b[1;33m=\u001b[0m\u001b[0mdata\u001b[0m\u001b[1;33m(\u001b[0m\u001b[0mfile1\u001b[0m\u001b[1;33m)\u001b[0m\u001b[1;33m\u001b[0m\u001b[1;33m\u001b[0m\u001b[0m\n\u001b[0m\u001b[0;32m      9\u001b[0m \u001b[0mprint\u001b[0m\u001b[1;33m(\u001b[0m\u001b[0mdataFrame\u001b[0m\u001b[1;33m)\u001b[0m\u001b[1;33m\u001b[0m\u001b[1;33m\u001b[0m\u001b[0m\n\u001b[0;32m     10\u001b[0m \u001b[1;31m# callFreq(dataFrame)\u001b[0m\u001b[1;33m\u001b[0m\u001b[1;33m\u001b[0m\u001b[1;33m\u001b[0m\u001b[0m\n",
      "\u001b[1;32m<ipython-input-6-ed74afe7c945>\u001b[0m in \u001b[0;36mdata\u001b[1;34m(file1)\u001b[0m\n\u001b[0;32m     15\u001b[0m     \u001b[0mdf\u001b[0m\u001b[1;33m=\u001b[0m\u001b[0mpd\u001b[0m\u001b[1;33m.\u001b[0m\u001b[0mread_csv\u001b[0m\u001b[1;33m(\u001b[0m\u001b[0mfile1\u001b[0m\u001b[1;33m)\u001b[0m\u001b[1;33m\u001b[0m\u001b[1;33m\u001b[0m\u001b[0m\n\u001b[0;32m     16\u001b[0m \u001b[1;33m\u001b[0m\u001b[0m\n\u001b[1;32m---> 17\u001b[1;33m     \u001b[0mdf\u001b[0m\u001b[1;33m.\u001b[0m\u001b[0mcolumns\u001b[0m \u001b[1;33m=\u001b[0m\u001b[1;33m[\u001b[0m\u001b[1;34m'Sourcename'\u001b[0m\u001b[1;33m,\u001b[0m \u001b[1;34m'Date'\u001b[0m\u001b[1;33m,\u001b[0m \u001b[1;34m'Currency1'\u001b[0m\u001b[1;33m,\u001b[0m \u001b[1;34m'Othercurrency'\u001b[0m\u001b[1;33m,\u001b[0m\u001b[1;34m'Number'\u001b[0m\u001b[1;33m]\u001b[0m\u001b[1;33m\u001b[0m\u001b[1;33m\u001b[0m\u001b[0m\n\u001b[0m\u001b[0;32m     18\u001b[0m \u001b[1;33m\u001b[0m\u001b[0m\n\u001b[0;32m     19\u001b[0m     \u001b[1;32mfor\u001b[0m \u001b[0mj\u001b[0m \u001b[1;32min\u001b[0m \u001b[0mdf\u001b[0m\u001b[1;33m.\u001b[0m\u001b[0mCurrency1\u001b[0m\u001b[1;33m.\u001b[0m\u001b[0munique\u001b[0m\u001b[1;33m(\u001b[0m\u001b[1;33m)\u001b[0m\u001b[1;33m:\u001b[0m\u001b[1;33m\u001b[0m\u001b[1;33m\u001b[0m\u001b[0m\n",
      "\u001b[1;32m~\\anaconda\\lib\\site-packages\\pandas\\core\\generic.py\u001b[0m in \u001b[0;36m__setattr__\u001b[1;34m(self, name, value)\u001b[0m\n\u001b[0;32m   5150\u001b[0m         \u001b[1;32mtry\u001b[0m\u001b[1;33m:\u001b[0m\u001b[1;33m\u001b[0m\u001b[1;33m\u001b[0m\u001b[0m\n\u001b[0;32m   5151\u001b[0m             \u001b[0mobject\u001b[0m\u001b[1;33m.\u001b[0m\u001b[0m__getattribute__\u001b[0m\u001b[1;33m(\u001b[0m\u001b[0mself\u001b[0m\u001b[1;33m,\u001b[0m \u001b[0mname\u001b[0m\u001b[1;33m)\u001b[0m\u001b[1;33m\u001b[0m\u001b[1;33m\u001b[0m\u001b[0m\n\u001b[1;32m-> 5152\u001b[1;33m             \u001b[1;32mreturn\u001b[0m \u001b[0mobject\u001b[0m\u001b[1;33m.\u001b[0m\u001b[0m__setattr__\u001b[0m\u001b[1;33m(\u001b[0m\u001b[0mself\u001b[0m\u001b[1;33m,\u001b[0m \u001b[0mname\u001b[0m\u001b[1;33m,\u001b[0m \u001b[0mvalue\u001b[0m\u001b[1;33m)\u001b[0m\u001b[1;33m\u001b[0m\u001b[1;33m\u001b[0m\u001b[0m\n\u001b[0m\u001b[0;32m   5153\u001b[0m         \u001b[1;32mexcept\u001b[0m \u001b[0mAttributeError\u001b[0m\u001b[1;33m:\u001b[0m\u001b[1;33m\u001b[0m\u001b[1;33m\u001b[0m\u001b[0m\n\u001b[0;32m   5154\u001b[0m             \u001b[1;32mpass\u001b[0m\u001b[1;33m\u001b[0m\u001b[1;33m\u001b[0m\u001b[0m\n",
      "\u001b[1;32mpandas\\_libs\\properties.pyx\u001b[0m in \u001b[0;36mpandas._libs.properties.AxisProperty.__set__\u001b[1;34m()\u001b[0m\n",
      "\u001b[1;32m~\\anaconda\\lib\\site-packages\\pandas\\core\\generic.py\u001b[0m in \u001b[0;36m_set_axis\u001b[1;34m(self, axis, labels)\u001b[0m\n\u001b[0;32m    562\u001b[0m     \u001b[1;32mdef\u001b[0m \u001b[0m_set_axis\u001b[0m\u001b[1;33m(\u001b[0m\u001b[0mself\u001b[0m\u001b[1;33m,\u001b[0m \u001b[0maxis\u001b[0m\u001b[1;33m:\u001b[0m \u001b[0mint\u001b[0m\u001b[1;33m,\u001b[0m \u001b[0mlabels\u001b[0m\u001b[1;33m:\u001b[0m \u001b[0mIndex\u001b[0m\u001b[1;33m)\u001b[0m \u001b[1;33m->\u001b[0m \u001b[1;32mNone\u001b[0m\u001b[1;33m:\u001b[0m\u001b[1;33m\u001b[0m\u001b[1;33m\u001b[0m\u001b[0m\n\u001b[0;32m    563\u001b[0m         \u001b[0mlabels\u001b[0m \u001b[1;33m=\u001b[0m \u001b[0mensure_index\u001b[0m\u001b[1;33m(\u001b[0m\u001b[0mlabels\u001b[0m\u001b[1;33m)\u001b[0m\u001b[1;33m\u001b[0m\u001b[1;33m\u001b[0m\u001b[0m\n\u001b[1;32m--> 564\u001b[1;33m         \u001b[0mself\u001b[0m\u001b[1;33m.\u001b[0m\u001b[0m_mgr\u001b[0m\u001b[1;33m.\u001b[0m\u001b[0mset_axis\u001b[0m\u001b[1;33m(\u001b[0m\u001b[0maxis\u001b[0m\u001b[1;33m,\u001b[0m \u001b[0mlabels\u001b[0m\u001b[1;33m)\u001b[0m\u001b[1;33m\u001b[0m\u001b[1;33m\u001b[0m\u001b[0m\n\u001b[0m\u001b[0;32m    565\u001b[0m         \u001b[0mself\u001b[0m\u001b[1;33m.\u001b[0m\u001b[0m_clear_item_cache\u001b[0m\u001b[1;33m(\u001b[0m\u001b[1;33m)\u001b[0m\u001b[1;33m\u001b[0m\u001b[1;33m\u001b[0m\u001b[0m\n\u001b[0;32m    566\u001b[0m \u001b[1;33m\u001b[0m\u001b[0m\n",
      "\u001b[1;32m~\\anaconda\\lib\\site-packages\\pandas\\core\\internals\\managers.py\u001b[0m in \u001b[0;36mset_axis\u001b[1;34m(self, axis, new_labels)\u001b[0m\n\u001b[0;32m    224\u001b[0m \u001b[1;33m\u001b[0m\u001b[0m\n\u001b[0;32m    225\u001b[0m         \u001b[1;32mif\u001b[0m \u001b[0mnew_len\u001b[0m \u001b[1;33m!=\u001b[0m \u001b[0mold_len\u001b[0m\u001b[1;33m:\u001b[0m\u001b[1;33m\u001b[0m\u001b[1;33m\u001b[0m\u001b[0m\n\u001b[1;32m--> 226\u001b[1;33m             raise ValueError(\n\u001b[0m\u001b[0;32m    227\u001b[0m                 \u001b[1;34mf\"Length mismatch: Expected axis has {old_len} elements, new \"\u001b[0m\u001b[1;33m\u001b[0m\u001b[1;33m\u001b[0m\u001b[0m\n\u001b[0;32m    228\u001b[0m                 \u001b[1;34mf\"values have {new_len} elements\"\u001b[0m\u001b[1;33m\u001b[0m\u001b[1;33m\u001b[0m\u001b[0m\n",
      "\u001b[1;31mValueError\u001b[0m: Length mismatch: Expected axis has 4 elements, new values have 5 elements"
     ]
    }
   ],
   "source": [
    "def callFreq(dataframe):\n",
    "#     currency1=dataframe['Currency1'].to_list()\n",
    "#     currency2=dataframe['Othercurrency'].to_list()\n",
    "    \n",
    "#     print(currency1, currency2)\n",
    "    print(dataframe)\n",
    "    \n",
    "dataFrame=data(file1)\n",
    "print(dataFrame)\n",
    "# callFreq(dataFrame)\n"
   ]
  },
  {
   "cell_type": "code",
   "execution_count": 9,
   "metadata": {},
   "outputs": [
    {
     "name": "stdout",
     "output_type": "stream",
     "text": [
      "EUR 16302.60573664264\n",
      "EUR 32605.21147328528\n"
     ]
    },
    {
     "data": {
      "text/plain": [
       "'apix -v foxy-sc updateBackendSource name C:\\\\Users\\\\aryan\\\\all python programs\\\\folder1\\\\FX_rates_PARTNER_REUTERS_BIDASK_24H_20210101_20210412 (1) (1).csv request addedVarianceThresholdOverrides USD-EUR = 16302.60573664264 addedHardVarianceThresholdOverrides USD-EUR = 32605.21147328528 reason \"update Variance Threshold'"
      ]
     },
     "execution_count": 9,
     "metadata": {},
     "output_type": "execute_result"
    }
   ],
   "source": [
    "import pandas as pd\n",
    "import numpy as np\n",
    "import glob\n",
    "import os\n",
    "\n",
    "list_of_files = glob.glob(\"C:\\\\Users\\\\aryan\\\\all python programs\\\\folder1\\\\*\") # * means all if need specific format then *.csv\n",
    "latest_file = max(list_of_files, key=os.path.getmtime)\n",
    "file1=latest_file\n",
    "\n",
    "# print(\"Function: data() --> ask for two inputs; data(file1,file2).\")\n",
    "# print(\"File 1 is the file we read and file 2 is the file we save the data on.\")\n",
    "# print(\"data() will find the std and mean and store it for you in a folder.\")\n",
    "# print(\" \")\n",
    "\n",
    "def data(file1):\n",
    "    df=pd.read_csv(file1)\n",
    "\n",
    "    df.columns =['Sourcename', 'Date', 'Currency1', 'Othercurrency','Number']\n",
    "\n",
    "    for j in df.Currency1.unique():\n",
    "        df1=pd.DataFrame()\n",
    "        d = []\n",
    "        e = []\n",
    "        f = []\n",
    "        for i in df.Othercurrency.unique():\n",
    "            d.append(i)\n",
    "            e.append(df[df.Othercurrency==i].Number.mean())\n",
    "            f.append(df[df.Othercurrency==i].Number.std())\n",
    "            \n",
    "        ll=len(d)*['Currency1']\n",
    "        list_of_cols = list(zip(ll,d,e,f))\n",
    "        rates_df = pd.DataFrame(list_of_cols, columns = ['Currency1','Othercurrency','STD','MEAN'])\n",
    "        rates_df = pd.concat([df1,rates_df], ignore_index=True)\n",
    "      \n",
    "    return rates_df\n",
    " \n",
    "\n",
    "                              \n",
    "def findNumber(dataFrame1,multiplierS,multiplierH,currency):\n",
    "    dict1=dict(zip(dataFrame1.Othercurrency, dataFrame1.STD))\n",
    "    dict2=dict(zip(dataFrame1.Othercurrency, dataFrame1.MEAN))\n",
    "    \n",
    "    numberSTD = dict1[currency]\n",
    "    numberMEAN = dict2[currency]\n",
    "    MultiplierSNumber = ((numberSTD*multiplierS)/numberMEAN)*100\n",
    "    MultiplierHNumber = ((numberSTD*multiplierH)/numberMEAN)*100\n",
    "    \n",
    "    \n",
    "    \n",
    "    print(currency, MultiplierSNumber)\n",
    "    print(currency, MultiplierHNumber)\n",
    "    return MultiplierSNumber, MultiplierHNumber\n",
    "\n",
    "\n",
    "\n",
    "def create_command(latest_file, currency1, othercurrencyName, MS, MH):\n",
    "    return \"apix -v foxy-sc updateBackendSource name \"+latest_file+\" request addedVarianceThresholdOverrides \" + currency1 +\"-\"+ othercurrencyName +\" = \"+MS+' addedHardVarianceThresholdOverrides '+currency1 +\"-\"+ othercurrencyName +\" = \"+MH + ''' reason \"update Variance Threshold'''\n",
    "    \n",
    "def main():\n",
    "    dataFrame = data(\"FX_rates_PARTNER_REUTERS_BIDASK_24H_20210101_20210412 (1).csv\")\n",
    "    MS,MH=findNumber(dataFrame,2,4,\"EUR\")\n",
    "    command = create_command(file1,\"USD\",\"EUR\", str(MS), str(MH))\n",
    "\n",
    "    return command\n",
    "    \n",
    "# if __name__ == \"__main__\":\n",
    "#     main()\n",
    "\n",
    "main()"
   ]
  },
  {
   "cell_type": "code",
   "execution_count": 15,
   "metadata": {},
   "outputs": [
    {
     "name": "stdout",
     "output_type": "stream",
     "text": [
      "C:\\Users\\aryan\\all python programs\\folder1\\FX_rates_PARTNER_REUTERS_BIDASK_24H_20210101_20210412 (1) (1).csv\n"
     ]
    },
    {
     "ename": "TypeError",
     "evalue": "string indices must be integers",
     "output_type": "error",
     "traceback": [
      "\u001b[1;31m---------------------------------------------------------------------------\u001b[0m",
      "\u001b[1;31mTypeError\u001b[0m                                 Traceback (most recent call last)",
      "\u001b[1;32m<ipython-input-15-0934fff883cc>\u001b[0m in \u001b[0;36m<module>\u001b[1;34m\u001b[0m\n\u001b[0;32m      8\u001b[0m \u001b[0mdataFrame\u001b[0m\u001b[1;33m=\u001b[0m\u001b[0mfile1\u001b[0m\u001b[1;33m\u001b[0m\u001b[1;33m\u001b[0m\u001b[0m\n\u001b[0;32m      9\u001b[0m \u001b[0mprint\u001b[0m\u001b[1;33m(\u001b[0m\u001b[0mdataFrame\u001b[0m\u001b[1;33m)\u001b[0m\u001b[1;33m\u001b[0m\u001b[1;33m\u001b[0m\u001b[0m\n\u001b[1;32m---> 10\u001b[1;33m \u001b[0mcallFreq\u001b[0m\u001b[1;33m(\u001b[0m\u001b[0mdataFrame\u001b[0m\u001b[1;33m)\u001b[0m\u001b[1;33m\u001b[0m\u001b[1;33m\u001b[0m\u001b[0m\n\u001b[0m",
      "\u001b[1;32m<ipython-input-15-0934fff883cc>\u001b[0m in \u001b[0;36mcallFreq\u001b[1;34m(dataframe)\u001b[0m\n\u001b[0;32m      1\u001b[0m \u001b[1;32mdef\u001b[0m \u001b[0mcallFreq\u001b[0m\u001b[1;33m(\u001b[0m\u001b[0mdataframe\u001b[0m\u001b[1;33m)\u001b[0m\u001b[1;33m:\u001b[0m\u001b[1;33m\u001b[0m\u001b[1;33m\u001b[0m\u001b[0m\n\u001b[1;32m----> 2\u001b[1;33m     \u001b[0mcurrency1\u001b[0m\u001b[1;33m=\u001b[0m\u001b[0mdataframe\u001b[0m\u001b[1;33m[\u001b[0m\u001b[1;34m'Currency1'\u001b[0m\u001b[1;33m]\u001b[0m\u001b[1;33m\u001b[0m\u001b[1;33m\u001b[0m\u001b[0m\n\u001b[0m\u001b[0;32m      3\u001b[0m     \u001b[0mcurrency2\u001b[0m\u001b[1;33m=\u001b[0m\u001b[0mdataframe\u001b[0m\u001b[1;33m[\u001b[0m\u001b[1;34m'Othercurrency'\u001b[0m\u001b[1;33m]\u001b[0m\u001b[1;33m\u001b[0m\u001b[1;33m\u001b[0m\u001b[0m\n\u001b[0;32m      4\u001b[0m \u001b[1;33m\u001b[0m\u001b[0m\n\u001b[0;32m      5\u001b[0m     \u001b[0mprint\u001b[0m\u001b[1;33m(\u001b[0m\u001b[0mcurrency1\u001b[0m\u001b[1;33m,\u001b[0m \u001b[0mcurrency2\u001b[0m\u001b[1;33m)\u001b[0m\u001b[1;33m\u001b[0m\u001b[1;33m\u001b[0m\u001b[0m\n",
      "\u001b[1;31mTypeError\u001b[0m: string indices must be integers"
     ]
    }
   ],
   "source": [
    "def callFreq(dataframe):\n",
    "    currency1=dataframe['Currency1']\n",
    "    currency2=dataframe['Othercurrency']\n",
    "    \n",
    "    print(currency1, currency2)\n",
    "    print(dataframe)\n",
    "    \n",
    "dataFrame=file1\n",
    "\n",
    "callFreq(dataFrame)"
   ]
  },
  {
   "cell_type": "code",
   "execution_count": null,
   "metadata": {},
   "outputs": [],
   "source": []
  }
 ],
 "metadata": {
  "kernelspec": {
   "display_name": "Python 3",
   "language": "python",
   "name": "python3"
  },
  "language_info": {
   "codemirror_mode": {
    "name": "ipython",
    "version": 3
   },
   "file_extension": ".py",
   "mimetype": "text/x-python",
   "name": "python",
   "nbconvert_exporter": "python",
   "pygments_lexer": "ipython3",
   "version": "3.8.5"
  }
 },
 "nbformat": 4,
 "nbformat_minor": 4
}
