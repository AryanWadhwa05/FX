{
 "cells": [
  {
   "cell_type": "code",
   "execution_count": 1,
   "metadata": {},
   "outputs": [
    {
     "name": "stdout",
     "output_type": "stream",
     "text": [
      "[('USD', 'EUR'), ('USD', 'ATM'), ('USD', 'GBP'), ('USD', 'ERM')]\n",
      "[133.33333333333331, 0.0, 0.0, 0.0]\n"
     ]
    }
   ],
   "source": [
    "import pandas as pd\n",
    "import numpy as np\n",
    "import glob\n",
    "import os\n",
    "\n",
    "list_of_files = glob.glob(\"C:\\\\Users\\\\aryan\\\\all python programs\\\\folder1\\\\*\") # * means all if need specific format then *.csv\n",
    "latest_file = max(list_of_files, key=os.path.getmtime)\n",
    "file1 = latest_file\n",
    "\n",
    "\n",
    "def data(file1):\n",
    "    col_names = ['Sourcename', 'Date', 'Currency1', 'Othercurrency','Number'] \n",
    "    df=pd.read_csv(file1, names = col_names)\n",
    "\n",
    "    df.columns =['Sourcename', 'Date', 'Currency1', 'Othercurrency','Number']\n",
    "\n",
    "    unique = dict()\n",
    "\n",
    "    for x in range(len(df)):\n",
    "        if (df.iat[x,2],df.iat[x,3]) not in unique.keys():\n",
    "            unique[(df.iat[x,2],df.iat[x,3])]=[df.iat[x,4]]\n",
    "        else:\n",
    "            unique[(df.iat[x,2],df.iat[x,3])].append(df.iat[x,4])\n",
    "            \n",
    "    currencylist=list(unique.keys())\n",
    "    itemlist=[]\n",
    "    x =0\n",
    "    for x in range(len(currencylist)):\n",
    "        item=unique[currencylist[x]][0:]\n",
    "        itemlist.append(item)\n",
    "        \n",
    "    global mean\n",
    "    mean=list(np.zeros(len(itemlist)))\n",
    "    global std\n",
    "    std=list(np.zeros(len(itemlist)))\n",
    "\n",
    "    for x in range(len(mean)):\n",
    "        mean[x]=np.mean(itemlist[x])\n",
    "        std[x]=np.std(itemlist[x])\n",
    "        \n",
    "    global finallist\n",
    "    finallist = []\n",
    "    for x in range(len(currencylist)):\n",
    "        finallist.append([currencylist[x],mean[x],std[x]])\n",
    "\n",
    "    global df_fx\n",
    "    df_fx = pd.DataFrame(finallist)\n",
    "    df_fx.columns = ['Pairs', 'Mean', 'Std']\n",
    "\n",
    "    MSNlist = []\n",
    "    MHNlist = []\n",
    "    for i in range (len(std)):\n",
    "        MultiplierSNumber = ((std[i]*2)/mean[i])*100\n",
    "        MultiplierHNumber = ((std[i]*4)/mean[i])*100\n",
    "        MSNlist.append(MultiplierSNumber)\n",
    "        MHNlist.append(MultiplierHNumber)\n",
    "\n",
    "    outputlist = []\n",
    "#     for i in range(len(currencylist)):\n",
    "#         z = \"apix -v foxy-sc updateBackendSource name \"+latest_file+\" request addedVarianceThresholdOverrides \" + currencylist[i] +\" = \"+MSNlist[i]+' addedHardVarianceThresholdOverrides '+ currencylist[i] + \" = \"+MSNlist[i] + \"reason update Variance Threshold\"\n",
    "#         outputlist.append(z)\n",
    "#     for i in range(len(outputlist)):\n",
    "#         print (z[i])\n",
    "    print (currencylist)\n",
    "    print(MSNlist)\n",
    "                              \n",
    "\n",
    "data(file1)"
   ]
  },
  {
   "cell_type": "code",
   "execution_count": null,
   "metadata": {},
   "outputs": [],
   "source": []
  }
 ],
 "metadata": {
  "kernelspec": {
   "display_name": "Python 3",
   "language": "python",
   "name": "python3"
  },
  "language_info": {
   "codemirror_mode": {
    "name": "ipython",
    "version": 3
   },
   "file_extension": ".py",
   "mimetype": "text/x-python",
   "name": "python",
   "nbconvert_exporter": "python",
   "pygments_lexer": "ipython3",
   "version": "3.8.5"
  }
 },
 "nbformat": 4,
 "nbformat_minor": 4
}
